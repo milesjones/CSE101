{
 "cells": [
  {
   "cell_type": "markdown",
   "metadata": {},
   "source": [
    "# DFS\n",
    "Depth-First search is a graph algorithm that uses a *stack* to keep track of which vertices have been visited. (Note that I am using the general term DFS for a broad description of a graph algorithm that can be implemented in a few ways. The book has a very specific definition of DFS.)\n",
    "\n",
    "## GraphSearch\n",
    "Graphsearch is a general graph algorithm that can be changed to have different outcomes based on the data structures used. When a stack is used, then graphsearch is DFS. When a queue is used, then graphsearch is BFS, etc..."
   ]
  },
  {
   "cell_type": "markdown",
   "metadata": {},
   "source": [
    "### Adjacency matrix version\n",
    "Below is an implementation for graphsearch using an adjacency matrix. It uses an array *Status* that has 'X','U', or 'F' to signify if each vertex is explored, unexplored or on the frontier. The algorithm returns the array *Status*. If a vertex is *reachable* from s then the entry of *Status* is 'X'. If it is unreachable, then the entry is 'U'."
   ]
  },
  {
   "cell_type": "code",
   "execution_count": null,
   "metadata": {},
   "outputs": [],
   "source": [
    "def Graphsearch_AM(G,s):                   # G is an n by n adjacency matrix of a graph and s (starting vertex) is an integer from 0 to n-1\n",
    "    n = len(G)\n",
    "    Status = ['U']*n\n",
    "    Status[s] = ['F']                   # initialize the Status array\n",
    "    F = [s]                             # F is a stack with only the vertex s\n",
    "    while len(F)>0:\n",
    "        w = F[0]                        # set w to be the first element of F\n",
    "        F = F[1:]                       # remove the first element of F (pop)\n",
    "        for i in range(n):\n",
    "            if G[w][i] == 1:\n",
    "                if Status[i] == 'U':\n",
    "                    Status[i] == 'F'\n",
    "                    F = [i] + F        # add vertex i to the beginning of the stack F\n",
    "        Status [w] = 'X'\n",
    "    return Status\n",
    "        "
   ]
  },
  {
   "cell_type": "markdown",
   "metadata": {},
   "source": [
    "Try it on the following graph starting at 0. (try it starting at other indices.)"
   ]
  },
  {
   "cell_type": "code",
   "execution_count": null,
   "metadata": {},
   "outputs": [],
   "source": [
    "G = [\n",
    "    [0,0,0,0,1],\n",
    "    [1,0,0,1,0],\n",
    "    [0,1,0,1,0],\n",
    "    [0,1,1,0,0],\n",
    "    [1,0,0,0,0],\n",
    "    ]"
   ]
  },
  {
   "cell_type": "code",
   "execution_count": null,
   "metadata": {},
   "outputs": [],
   "source": [
    "Graphsearch_AM(G,0)"
   ]
  },
  {
   "cell_type": "markdown",
   "metadata": {},
   "source": [
    "Starting at 0, the only reachable vertices are vertex 0 and vertex 4. All other vertices are unreachable. So the algorithm should output ['X', 'U', 'U', 'U', 'X']"
   ]
  },
  {
   "cell_type": "markdown",
   "metadata": {},
   "source": [
    "##  Random Graph generator\n",
    "\n",
    "We will want to play around with this algorithm on randomly generated directed graphs.\n",
    "\n",
    "There are a few different ways to define a random graph. We will be looking at the Erdős–Rényi model which is a randomly generated undirected graph.\n",
    "\n",
    "A $G(n,p)$ graph is constructed by starting with $n$ vertices and for every pair of vertices, there is a $p$ probability that there is an edge between the vertices and $1-p$ probability of no edge.\n",
    "\n",
    "We will be encoding the graph using an adjacency matrix.\n",
    "\n",
    "### Generating $G(n,p)$\n",
    "\n",
    "\n",
    "This function generates a random graph given parameters ```n``` and ```p```.\n",
    "We need to import the random python package\n"
   ]
  },
  {
   "cell_type": "code",
   "execution_count": null,
   "metadata": {},
   "outputs": [],
   "source": [
    "import random"
   ]
  },
  {
   "cell_type": "code",
   "execution_count": null,
   "metadata": {},
   "outputs": [],
   "source": [
    "def generate_G_n_p(n,p):\n",
    "    graph = [[0]*n for k in range(n)]     # this generates an n by n matrix of all 0's\n",
    "    for i in range(n-1):\n",
    "        for j in range(i+1,n):\n",
    "            r = random.random()\n",
    "            if r<p:                      # r is a random number chosen from the interval [0,1]\n",
    "                graph[i][j] = 1          # since the graph is undirected, you need to assign the same entry\n",
    "                graph[j][i] = 1          # for (i,j) and (j,i)\n",
    "    return graph"
   ]
  },
  {
   "cell_type": "markdown",
   "metadata": {},
   "source": [
    "Let's generate an undirected graph with 10 vertices with a probability of 1/5 that each pair of vertices are connected"
   ]
  },
  {
   "cell_type": "code",
   "execution_count": null,
   "metadata": {},
   "outputs": [],
   "source": [
    "RG = generate_G_n_p(10,1/5)\n",
    "RG"
   ]
  },
  {
   "cell_type": "markdown",
   "metadata": {},
   "source": [
    "## $\\color{red}{\\text{Exercise }}$\n",
    "Try to draw the result of RG as a graph. Try to visually determine which vertices are reachable from 0. Then run Graphsearch_AM to see if your determination was correct!! (note that your graph is randomly determined.)"
   ]
  },
  {
   "cell_type": "code",
   "execution_count": null,
   "metadata": {},
   "outputs": [],
   "source": [
    "Graphsearch_AM(RG,0)"
   ]
  },
  {
   "cell_type": "markdown",
   "metadata": {},
   "source": [
    "Try it on this graph:\n",
    "\n",
    "```[[0, 0, 1, 0, 0, 0, 0, 0, 0, 0],\n",
    " [0, 0, 0, 0, 0, 0, 0, 0, 0, 0],\n",
    " [1, 0, 0, 0, 0, 1, 0, 0, 0, 0],\n",
    " [0, 0, 0, 0, 0, 0, 0, 1, 0, 0],\n",
    " [0, 0, 0, 0, 0, 0, 0, 0, 0, 0],\n",
    " [0, 0, 1, 0, 0, 0, 0, 0, 0, 1],\n",
    " [0, 0, 0, 0, 0, 0, 0, 0, 0, 1],\n",
    " [0, 0, 0, 1, 0, 0, 0, 0, 0, 0],\n",
    " [0, 0, 0, 0, 0, 0, 0, 0, 0, 0],\n",
    " [0, 0, 0, 0, 0, 1, 1, 0, 0, 0]]```"
   ]
  },
  {
   "cell_type": "markdown",
   "metadata": {},
   "source": [
    "### DFS tree\n",
    "Often, in addition of knowing which vertices are reachable from a starting vertex, we would like to know how to get there. One way to do this is to keep an array that holds the parent of each vertex in the DFS tree. We will call this array *prev*\n",
    "\n",
    "Let's add it to the algorithm"
   ]
  },
  {
   "cell_type": "code",
   "execution_count": null,
   "metadata": {},
   "outputs": [],
   "source": [
    "def Graphsearch_AM_prev(G,s):                   # G is an n by n adjacency matrix of a graph and s (starting vertex) is an integer from 0 to n-1\n",
    "    n = len(G)\n",
    "    Status = ['U']*n\n",
    "    Status[s] = ['F']                   # initialize the Status array\n",
    "    F = [s]                             # F is a stack with only the vertex s\n",
    "    Prev = ['U']*n                      # initialize the Prev array to all 'U' meaning unreachable\n",
    "    Prev[s] = s                         # set the parent of s to be s meaning that it is the root of the DFS tree\n",
    "    while len(F)>0:\n",
    "        w = F[0]                        # set w to be the first element of F\n",
    "        F = F[1:]                       # remove the first element of F (pop)\n",
    "        for i in range(n):\n",
    "            if G[w][i] == 1:\n",
    "                if Status[i] == 'U':\n",
    "                    Status[i] == 'F'\n",
    "                    F = [i] + F        # add vertex i to the beginning of the stack F\n",
    "                    Prev[i] = w\n",
    "        Status [w] = 'X'\n",
    "    print(Prev)\n",
    "    return Status\n",
    "        "
   ]
  },
  {
   "cell_type": "code",
   "execution_count": null,
   "metadata": {},
   "outputs": [],
   "source": [
    "Example_graph = [[0, 0, 1, 0, 0, 0, 0, 0, 0, 0],\n",
    " [0, 0, 0, 0, 0, 0, 0, 0, 0, 0],\n",
    " [1, 0, 0, 0, 0, 1, 0, 0, 0, 0],\n",
    " [0, 0, 0, 0, 0, 0, 0, 1, 0, 0],\n",
    " [0, 0, 0, 0, 0, 0, 0, 0, 0, 0],\n",
    " [0, 0, 1, 0, 0, 0, 0, 0, 0, 1],\n",
    " [0, 0, 0, 0, 0, 0, 0, 0, 0, 1],\n",
    " [0, 0, 0, 1, 0, 0, 0, 0, 0, 0],\n",
    " [0, 0, 0, 0, 0, 0, 0, 0, 0, 0],\n",
    " [0, 0, 0, 0, 0, 1, 1, 0, 0, 0]]"
   ]
  },
  {
   "cell_type": "code",
   "execution_count": null,
   "metadata": {},
   "outputs": [],
   "source": [
    "Graphsearch_AM_prev(Example_graph,0)"
   ]
  },
  {
   "cell_type": "markdown",
   "metadata": {},
   "source": [
    "## $\\color{red}{\\text{Exercise}}$\n",
    "\n",
    "Draw the graph: ```Example_graph``` and draw the DFS tree that has been printed by the algorithm."
   ]
  },
  {
   "cell_type": "code",
   "execution_count": null,
   "metadata": {},
   "outputs": [],
   "source": []
  }
 ],
 "metadata": {
  "kernelspec": {
   "display_name": "Python 3",
   "language": "python",
   "name": "python3"
  },
  "language_info": {
   "codemirror_mode": {
    "name": "ipython",
    "version": 3
   },
   "file_extension": ".py",
   "mimetype": "text/x-python",
   "name": "python",
   "nbconvert_exporter": "python",
   "pygments_lexer": "ipython3",
   "version": "3.7.4"
  }
 },
 "nbformat": 4,
 "nbformat_minor": 2
}
